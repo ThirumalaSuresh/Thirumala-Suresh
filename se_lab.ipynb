{
  "nbformat": 4,
  "nbformat_minor": 0,
  "metadata": {
    "colab": {
      "provenance": [],
      "toc_visible": true,
      "authorship_tag": "ABX9TyOfdOpFx4j09ChHmttS/1dB",
      "include_colab_link": true
    },
    "kernelspec": {
      "name": "python3",
      "display_name": "Python 3"
    },
    "language_info": {
      "name": "python"
    }
  },
  "cells": [
    {
      "cell_type": "markdown",
      "metadata": {
        "id": "view-in-github",
        "colab_type": "text"
      },
      "source": [
        "<a href=\"https://colab.research.google.com/github/ThirumalaSuresh/Thirumala-Suresh/blob/main/se_lab.ipynb\" target=\"_parent\"><img src=\"https://colab.research.google.com/assets/colab-badge.svg\" alt=\"Open In Colab\"/></a>"
      ]
    },
    {
      "cell_type": "code",
      "execution_count": null,
      "metadata": {
        "id": "s1eiWcr4qUrC"
      },
      "outputs": [],
      "source": [
        "def Temperature_modelling(a,b,c,time):\n",
        "  temperature = a*time**2+b*time+c\n",
        "  return temperature"
      ]
    },
    {
      "cell_type": "code",
      "source": [
        "#hard-coded variables\n",
        "a,b,c = 0.1,2,10\n",
        "time=10"
      ],
      "metadata": {
        "id": "DBbCGW4fsXYc"
      },
      "execution_count": null,
      "outputs": []
    },
    {
      "cell_type": "code",
      "source": [
        "print(\"Hard-coded variables for weather modelling\")\n",
        "print(\"Temperature for hardcoded coefficients at time\",time,\"hours:\",Temperature_modelling(a,b,c,time))"
      ],
      "metadata": {
        "colab": {
          "base_uri": "https://localhost:8080/"
        },
        "id": "DOuFmH1TskNt",
        "outputId": "9662b737-d2f0-4bcd-f2b6-4be3bdd81b3e"
      },
      "execution_count": null,
      "outputs": [
        {
          "output_type": "stream",
          "name": "stdout",
          "text": [
            "Hard-coded variables for weather modelling\n",
            "Temperature for hardcoded coefficients at time 10 hours: 40.0\n"
          ]
        }
      ]
    },
    {
      "cell_type": "code",
      "source": [
        "a=float(input(\"Enter coefficient of a:\"))\n",
        "b=float(input(\"Enter coefficient of b:\"))\n",
        "c=float(input(\"Enter coefficient of c:\"))"
      ],
      "metadata": {
        "colab": {
          "base_uri": "https://localhost:8080/"
        },
        "id": "XkLTHFPetDqA",
        "outputId": "1d39dfd8-a86e-4bc6-d5af-136d979e7855"
      },
      "execution_count": null,
      "outputs": [
        {
          "name": "stdout",
          "output_type": "stream",
          "text": [
            "Enter coefficient of a:45\n",
            "Enter coefficient of b:18\n",
            "Enter coefficient of c:7\n"
          ]
        }
      ]
    },
    {
      "cell_type": "code",
      "source": [
        "# read coefficients from a file\n",
        "def read_from_file(filename):\n",
        "  with open (filename,'r') as file:\n",
        "    lines = file.readlines()\n",
        "    coefficients= [tuple(map(float, line.strip().split(','))) for line in lines]\n",
        "    return coefficients"
      ],
      "metadata": {
        "id": "uuvfZfEetYC2"
      },
      "execution_count": null,
      "outputs": []
    },
    {
      "cell_type": "code",
      "source": [
        "# Hardcoding variables\n",
        "name = \"Suresh\"\n",
        "age = 19\n",
        "print(f\"Name: {name}, Age: {age}\")\n"
      ],
      "metadata": {
        "colab": {
          "base_uri": "https://localhost:8080/"
        },
        "id": "rL3qappbtzIt",
        "outputId": "c9b99108-1c19-41dc-b9a5-bc06f124d928"
      },
      "execution_count": null,
      "outputs": [
        {
          "output_type": "stream",
          "name": "stdout",
          "text": [
            "Name: Suresh, Age: 19\n"
          ]
        }
      ]
    },
    {
      "cell_type": "code",
      "source": [
        "# Keyboard Input\n",
        "name = input(\"Enter your name: \")\n",
        "age = input(\"Enter your age: \")\n",
        "print(f\"Name: {name}, Age: {age}\")\n"
      ],
      "metadata": {
        "colab": {
          "base_uri": "https://localhost:8080/"
        },
        "id": "w4P7nVsst734",
        "outputId": "1c9a9ddf-075e-41d0-c3a0-7ca1a4bac3c7"
      },
      "execution_count": null,
      "outputs": [
        {
          "output_type": "stream",
          "name": "stdout",
          "text": [
            "Enter your name: Suresh\n",
            "Enter your age: 19\n",
            "Name: Suresh, Age: 19\n"
          ]
        }
      ]
    },
    {
      "cell_type": "code",
      "source": [
        "# Read from a file (Single Input)\n",
        "try:\n",
        "    with open('/content/single_input.txt', 'r') as file:\n",
        "        content = file.readline().strip()\n",
        "    print(f\"Content from file: {content}\")\n",
        "except FileNotFoundError:\n",
        "    print(\"File not found. Please upload 'single_input.txt'.\")\n"
      ],
      "metadata": {
        "colab": {
          "base_uri": "https://localhost:8080/"
        },
        "id": "P8kPgejguGF5",
        "outputId": "cd270682-39bd-42ee-b327-fefab77d4691"
      },
      "execution_count": null,
      "outputs": [
        {
          "output_type": "stream",
          "name": "stdout",
          "text": [
            "File not found. Please upload 'single_input.txt'.\n"
          ]
        }
      ]
    },
    {
      "cell_type": "code",
      "source": [
        "# Hardcoding variables\n",
        "# Demonstrating predefined values\n",
        "name = \"Suresh\"\n",
        "age = 20\n",
        "department = \"cse\"\n",
        "print(f\"Name: {name}, Age: {age}, Department: {department}\")\n"
      ],
      "metadata": {
        "colab": {
          "base_uri": "https://localhost:8080/"
        },
        "id": "G1NYrpVhup9o",
        "outputId": "2ba3dec5-a779-4146-b4cb-aa466fe29f3e"
      },
      "execution_count": null,
      "outputs": [
        {
          "output_type": "stream",
          "name": "stdout",
          "text": [
            "Name: Suresh, Age: 20, Department: cse\n"
          ]
        }
      ]
    },
    {
      "cell_type": "code",
      "source": [
        "# Keyboard Input\n",
        "# Using input() to accept data from the user\n",
        "name = input(\"Enter your name: \")\n",
        "age = input(\"Enter your age: \")\n",
        "department = input(\"Enter your department: \")\n",
        "print(f\"Name: {name}, Age: {age}, Department: {department}\")\n"
      ],
      "metadata": {
        "colab": {
          "base_uri": "https://localhost:8080/"
        },
        "id": "kTdMBkIyvl1y",
        "outputId": "be5977d6-f694-43bc-a8ca-b767613fc9ff"
      },
      "execution_count": null,
      "outputs": [
        {
          "output_type": "stream",
          "name": "stdout",
          "text": [
            "Enter your name: Suresh\n",
            "Enter your age: 20\n",
            "Enter your department: cse\n",
            "Name: Suresh, Age: 20, Department: cse\n"
          ]
        }
      ]
    },
    {
      "cell_type": "code",
      "source": [
        "# Read from a file (Single Input)\n",
        "try:\n",
        "    # Ensure you upload the file to Colab\n",
        "    with open('/content/single.txt', 'r') as file:\n",
        "        data = file.readline().strip()\n",
        "    print(f\"Data from file: {data}\")\n",
        "except FileNotFoundError:\n",
        "    print(\"Error: '/content/single.txt' not found. Please upload the file.\")\n"
      ],
      "metadata": {
        "colab": {
          "base_uri": "https://localhost:8080/"
        },
        "id": "ZNTGdj51vxNK",
        "outputId": "0d69d205-7cbc-4234-e59b-5c47f0c2e412"
      },
      "execution_count": null,
      "outputs": [
        {
          "output_type": "stream",
          "name": "stdout",
          "text": [
            "Data from file: Suresh\n"
          ]
        }
      ]
    },
    {
      "cell_type": "code",
      "source": [
        "# Read from a file (Multiple Inputs)\n",
        "try:\n",
        "    # Ensure you upload the file to Colab\n",
        "    with open('/content/multiple.txt', 'r') as file:\n",
        "        content = file.read()\n",
        "    # Replace backslashes with a readable format (e.g., splitting by '\\')\n",
        "    lines = content.replace(\"\\\\\", \"\\n\").splitlines()\n",
        "    print(\"Data from file:\")\n",
        "    for line in lines:\n",
        "        print(line.strip())\n",
        "except FileNotFoundError:\n",
        "    print(\"Error: '/content/multiple.txt' not found. Please upload the file.\")\n",
        "\n"
      ],
      "metadata": {
        "colab": {
          "base_uri": "https://localhost:8080/"
        },
        "id": "-oJ6jYfHwaAN",
        "outputId": "0a14ce7b-c54c-4847-9b50-e0779e41dfb5"
      },
      "execution_count": null,
      "outputs": [
        {
          "output_type": "stream",
          "name": "stdout",
          "text": [
            "Data from file:\n",
            "Suresh\n",
            "20\n",
            "cse\n"
          ]
        }
      ]
    },
    {
      "cell_type": "code",
      "source": [
        "# Debugging and Fixing Errors\n",
        "try:\n",
        "    # Reading a non-existing file to demonstrate error handling\n",
        "    with open('non_existent_file.txt', 'r') as file:\n",
        "        content = file.read()\n",
        "    print(content)\n",
        "except FileNotFoundError:\n",
        "    print(\"Error: File not found. Please ensure the correct file is uploaded.\")\n"
      ],
      "metadata": {
        "id": "-xdxlwZIz-2k",
        "outputId": "44b04f34-c542-494a-fc83-d8697103117f",
        "colab": {
          "base_uri": "https://localhost:8080/"
        }
      },
      "execution_count": null,
      "outputs": [
        {
          "output_type": "stream",
          "name": "stdout",
          "text": [
            "Error: File not found. Please ensure the correct file is uploaded.\n"
          ]
        }
      ]
    },
    {
      "cell_type": "code",
      "source": [
        "def Temperature_modeling(a,b,c,time):\n",
        "  temperature = a*time**2 + b*time +c\n",
        "  return temperature"
      ],
      "metadata": {
        "id": "RYO5bbgZ7V7C"
      },
      "execution_count": 31,
      "outputs": []
    },
    {
      "cell_type": "code",
      "source": [
        "#Hardcoded variables\n",
        "a,b,c= 7,2.6,3\n",
        "time = 6"
      ],
      "metadata": {
        "id": "ceacZWZ7-mr6"
      },
      "execution_count": 36,
      "outputs": []
    },
    {
      "cell_type": "code",
      "source": [
        "#display results\n",
        "print(\"Hard-coded variables for weather modeling\")\n",
        "print(\"Temperature for hardcoded coefficients at time\", time, \"hours:\", Temperature_modeling(a,b,c,time))"
      ],
      "metadata": {
        "colab": {
          "base_uri": "https://localhost:8080/"
        },
        "id": "Y_Coj7nR-1y_",
        "outputId": "365a8030-496b-464c-ab7d-0f44693d3a4d"
      },
      "execution_count": 37,
      "outputs": [
        {
          "output_type": "stream",
          "name": "stdout",
          "text": [
            "Hard-coded variables for weather modeling\n",
            "Temperature for hardcoded coefficients at time 6 hours: 270.6\n"
          ]
        }
      ]
    },
    {
      "cell_type": "code",
      "source": [
        "a=float(input(\"Enter coeffient a:\"))\n",
        "b=float(input(\"enter coeffient b:\"))\n",
        "c=float(input(\"enter coeffient c:\"))"
      ],
      "metadata": {
        "colab": {
          "base_uri": "https://localhost:8080/"
        },
        "id": "qNqG9cAlD113",
        "outputId": "416a3ed5-4309-4409-c196-efa0999cc58e"
      },
      "execution_count": 38,
      "outputs": [
        {
          "name": "stdout",
          "output_type": "stream",
          "text": [
            "Enter coeffient a:7\n",
            "enter coeffient b:2.6\n",
            "enter coeffient c:3\n"
          ]
        }
      ]
    },
    {
      "cell_type": "code",
      "source": [
        "time = float(input(\"enter time\"))"
      ],
      "metadata": {
        "colab": {
          "base_uri": "https://localhost:8080/"
        },
        "id": "I9-A75q9EF1h",
        "outputId": "e98873c7-ec1a-49b1-d39b-a3d253acd7d9"
      },
      "execution_count": 39,
      "outputs": [
        {
          "name": "stdout",
          "output_type": "stream",
          "text": [
            "enter time6\n"
          ]
        }
      ]
    },
    {
      "cell_type": "code",
      "source": [
        "#variables read from keyboard\n",
        "print(\"Hard-coded variables for weather modeling\")\n",
        "print(\"Temperature form keyboard coefficients at time\",time, \"hours:\", Temperature_modeling(a,b,c,time))"
      ],
      "metadata": {
        "colab": {
          "base_uri": "https://localhost:8080/"
        },
        "id": "hNGu7UXjEVfZ",
        "outputId": "d852176e-dd60-46e8-ab34-38e0584401a7"
      },
      "execution_count": 40,
      "outputs": [
        {
          "output_type": "stream",
          "name": "stdout",
          "text": [
            "Hard-coded variables for weather modeling\n",
            "Temperature form keyboard coefficients at time 6.0 hours: 270.6\n"
          ]
        }
      ]
    },
    {
      "cell_type": "code",
      "source": [
        "#Read coefficients from a file\n",
        "def read_from_file(filename):\n",
        "  with open(filename, 'r') as file:\n",
        "    lines = file.readlines()\n",
        "    coefficients = [tuple (map(float, line.strip().split(','))) for line in lines]\n",
        "    return coefficients"
      ],
      "metadata": {
        "id": "UkVR03otFAxw"
      },
      "execution_count": 41,
      "outputs": []
    },
    {
      "cell_type": "code",
      "source": [
        "#Read coefficients from a file\n",
        "def read_from_file(filename):\n",
        "  with open(filename, 'r') as file:\n",
        "    lines = file.readlines()\n",
        "    coefficients = [tuple (map(float, line.strip().split(','))) for line in lines]\n",
        "    return coefficients\n",
        "coefficients = read_from_file('/content/input.txt')\n",
        "a, b, c, time = coefficients [0] # First set of coefficients\n",
        "temperature = Temperature_modeling(a, b, c, time)\n",
        "print(\"read from a file for weather modeling\")\n",
        "print(\"Temperature form keyboard coefficients at time\", time, \"hours:\", Temperature_modeling(a,b,c,time))"
      ],
      "metadata": {
        "id": "7L1VrYpKKwVz"
      },
      "execution_count": null,
      "outputs": []
    },
    {
      "cell_type": "code",
      "source": [
        "#example : solve for a single set of inputs\n",
        "coefficients = read_from_file('/content/input.txt')\n",
        "a, b, c, time = coefficients [0] # First set of coefficients\n",
        "temperature = Temperature_modeling(a, b, c, time)\n",
        "print(\"read from a file for weather modeling\")\n",
        "print(\"Temperature form keyboard coefficients at time\", time, \"hours:\", Temperature_modeling(a,b,c,time))\n"
      ],
      "metadata": {
        "colab": {
          "base_uri": "https://localhost:8080/"
        },
        "id": "4CTE0fjzF-OG",
        "outputId": "300ca6b9-de28-49eb-8eb3-cc4f884f6185"
      },
      "execution_count": 52,
      "outputs": [
        {
          "output_type": "stream",
          "name": "stdout",
          "text": [
            "Read from a file for weather modeling\n",
            "Temperature from keyboard coefficients at time 6.0 hours: 270.6\n"
          ]
        }
      ]
    },
    {
      "cell_type": "code",
      "source": [
        "# Define the function to read coefficients from a file\n",
        "def read_from_file(filename):\n",
        "    try:\n",
        "        with open(filename, 'r') as file:\n",
        "            lines = file.readlines()\n",
        "            # Split by whitespace (spaces/tabs) instead of commas\n",
        "            coefficients = [tuple(map(float, line.strip().split())) for line in lines]\n",
        "        return coefficients\n",
        "    except FileNotFoundError:\n",
        "        print(\"Error: File not found.\")\n",
        "        return []\n",
        "    except ValueError:\n",
        "        print(\"Error: Ensure the file format is correct (a b c time).\")\n",
        "        return []\n",
        "\n",
        "# Define the temperature modeling function\n",
        "def Temperature_modeling(a, b, c, time):\n",
        "    return a * time**2 + b * time + c\n",
        "\n",
        "# Read coefficients from file\n",
        "coefficients = read_from_file('/content/input.txt')\n",
        "\n",
        "# Ensure coefficients were successfully read\n",
        "if coefficients:\n",
        "    # Extract the first set of coefficients\n",
        "    a, b, c, time = coefficients[0]\n",
        "\n",
        "    # Calculate temperature\n",
        "    temperature = Temperature_modeling(a, b, c, time)\n",
        "\n",
        "    # Display results\n",
        "    print(\"Read from a file for weather modeling\")\n",
        "    print(f\"Temperature from keyboard coefficients at time {time} hours: {temperature}\")\n"
      ],
      "metadata": {
        "colab": {
          "base_uri": "https://localhost:8080/"
        },
        "id": "hGjbvKoyME1y",
        "outputId": "1f9593ef-70bf-4727-ba97-dfd48436acc0"
      },
      "execution_count": 54,
      "outputs": [
        {
          "output_type": "stream",
          "name": "stdout",
          "text": [
            "Read from a file for weather modeling\n",
            "Temperature from keyboard coefficients at time 6.0 hours: 270.6\n"
          ]
        }
      ]
    },
    {
      "cell_type": "code",
      "source": [
        "#Solve for all sets in the file\n",
        "for idx, (a, b, c,time) in enumerate (coefficients):\n",
        "  temperature = Temperature_modeling(a, b, c,time)\n",
        "  print(\"Temperature form keyboard coefficients at time\", time, \"hours:\", Temperature_modeling(a,b,c,time))"
      ],
      "metadata": {
        "colab": {
          "base_uri": "https://localhost:8080/",
          "height": 245
        },
        "id": "XlILz81-L6GE",
        "outputId": "a07d5e0c-6e63-40e3-be19-aa57bd7800d2"
      },
      "execution_count": 56,
      "outputs": [
        {
          "output_type": "stream",
          "name": "stdout",
          "text": [
            "Temperature form keyboard coefficients at time 6.0 hours: 270.6\n",
            "Temperature form keyboard coefficients at time 5.0 hours: 12.0\n",
            "Temperature form keyboard coefficients at time 10.0 hours: 69.0\n"
          ]
        },
        {
          "output_type": "error",
          "ename": "ValueError",
          "evalue": "not enough values to unpack (expected 4, got 0)",
          "traceback": [
            "\u001b[0;31m---------------------------------------------------------------------------\u001b[0m",
            "\u001b[0;31mValueError\u001b[0m                                Traceback (most recent call last)",
            "\u001b[0;32m<ipython-input-56-97937a04c918>\u001b[0m in \u001b[0;36m<cell line: 2>\u001b[0;34m()\u001b[0m\n\u001b[1;32m      1\u001b[0m \u001b[0;31m#Solve for all sets in the file\u001b[0m\u001b[0;34m\u001b[0m\u001b[0;34m\u001b[0m\u001b[0m\n\u001b[0;32m----> 2\u001b[0;31m \u001b[0;32mfor\u001b[0m \u001b[0midx\u001b[0m\u001b[0;34m,\u001b[0m \u001b[0;34m(\u001b[0m\u001b[0ma\u001b[0m\u001b[0;34m,\u001b[0m \u001b[0mb\u001b[0m\u001b[0;34m,\u001b[0m \u001b[0mc\u001b[0m\u001b[0;34m,\u001b[0m\u001b[0mtime\u001b[0m\u001b[0;34m)\u001b[0m \u001b[0;32min\u001b[0m \u001b[0menumerate\u001b[0m \u001b[0;34m(\u001b[0m\u001b[0mcoefficients\u001b[0m\u001b[0;34m)\u001b[0m\u001b[0;34m:\u001b[0m\u001b[0;34m\u001b[0m\u001b[0;34m\u001b[0m\u001b[0m\n\u001b[0m\u001b[1;32m      3\u001b[0m   \u001b[0mtemperature\u001b[0m \u001b[0;34m=\u001b[0m \u001b[0mTemperature_modeling\u001b[0m\u001b[0;34m(\u001b[0m\u001b[0ma\u001b[0m\u001b[0;34m,\u001b[0m \u001b[0mb\u001b[0m\u001b[0;34m,\u001b[0m \u001b[0mc\u001b[0m\u001b[0;34m,\u001b[0m\u001b[0mtime\u001b[0m\u001b[0;34m)\u001b[0m\u001b[0;34m\u001b[0m\u001b[0;34m\u001b[0m\u001b[0m\n\u001b[1;32m      4\u001b[0m   \u001b[0mprint\u001b[0m\u001b[0;34m(\u001b[0m\u001b[0;34m\"Temperature form keyboard coefficients at time\"\u001b[0m\u001b[0;34m,\u001b[0m \u001b[0mtime\u001b[0m\u001b[0;34m,\u001b[0m \u001b[0;34m\"hours:\"\u001b[0m\u001b[0;34m,\u001b[0m \u001b[0mTemperature_modeling\u001b[0m\u001b[0;34m(\u001b[0m\u001b[0ma\u001b[0m\u001b[0;34m,\u001b[0m\u001b[0mb\u001b[0m\u001b[0;34m,\u001b[0m\u001b[0mc\u001b[0m\u001b[0;34m,\u001b[0m\u001b[0mtime\u001b[0m\u001b[0;34m)\u001b[0m\u001b[0;34m)\u001b[0m\u001b[0;34m\u001b[0m\u001b[0;34m\u001b[0m\u001b[0m\n",
            "\u001b[0;31mValueError\u001b[0m: not enough values to unpack (expected 4, got 0)"
          ]
        }
      ]
    },
    {
      "cell_type": "code",
      "source": [
        "# Define the function to read coefficients from a file\n",
        "def read_from_file(filename):\n",
        "    coefficients = []\n",
        "    try:\n",
        "        with open(filename, 'r') as file:\n",
        "            lines = file.readlines()\n",
        "            for line in lines:\n",
        "                # Strip leading/trailing whitespaces and split by spaces\n",
        "                values = line.strip().split()\n",
        "                # Ensure we have exactly 4 values\n",
        "                if len(values) == 4:\n",
        "                    coefficients.append(tuple(map(float, values)))\n",
        "                else:\n",
        "                    print(f\"Skipping malformed line: {line.strip()}\")\n",
        "    except FileNotFoundError:\n",
        "        print(\"Error: File not found.\")\n",
        "    except ValueError as e:\n",
        "        print(f\"Error: {e}\")\n",
        "    return coefficients\n",
        "\n",
        "# Define the temperature modeling function\n",
        "def Temperature_modeling(a, b, c, time):\n",
        "    return a * time**2 + b * time + c\n",
        "\n",
        "# Read coefficients from file\n",
        "coefficients = read_from_file('/content/input.txt')\n",
        "\n",
        "# Debug: Print coefficients to check the file data\n",
        "print(\"Loaded coefficients:\", coefficients)\n",
        "\n",
        "# Ensure coefficients were successfully read and iterate through them\n",
        "if coefficients:\n",
        "    for idx, (a, b, c, time) in enumerate(coefficients):\n",
        "        temperature = Temperature_modeling(a, b, c, time)\n",
        "        print(f\"Temperature from keyboard coefficients at time {time} hours: {temperature}\")\n"
      ],
      "metadata": {
        "colab": {
          "base_uri": "https://localhost:8080/"
        },
        "id": "qdBnoYHJMif_",
        "outputId": "30e905c3-bce2-43cb-e47b-79eac153cd0a"
      },
      "execution_count": 57,
      "outputs": [
        {
          "output_type": "stream",
          "name": "stdout",
          "text": [
            "Skipping malformed line: \n",
            "Loaded coefficients: [(7.0, 2.6, 3.0, 6.0), (1.0, -3.0, 2.0, 5.0), (0.5, 2.0, -1.0, 10.0), (2.0, 1.2, 4.0, 0.0)]\n",
            "Temperature from keyboard coefficients at time 6.0 hours: 270.6\n",
            "Temperature from keyboard coefficients at time 5.0 hours: 12.0\n",
            "Temperature from keyboard coefficients at time 10.0 hours: 69.0\n",
            "Temperature from keyboard coefficients at time 0.0 hours: 4.0\n"
          ]
        }
      ]
    },
    {
      "cell_type": "code",
      "source": [
        "#Solve for all sets in the file\n",
        "for idx, (a, b, c,time) in enumerate (coefficients):\n",
        "  temperature = Temperature_modeling(a, b, c,time)\n",
        "  print(\"Temperature form keyboard coefficients at time\", time, \"hours:\", Temperature_modeling(a,b,c,time))"
      ],
      "metadata": {
        "id": "ukv4IxY1Mv3c"
      },
      "execution_count": null,
      "outputs": []
    }
  ]
}